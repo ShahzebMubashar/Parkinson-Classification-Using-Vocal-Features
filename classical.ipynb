{
 "cells": [
  {
   "cell_type": "code",
   "execution_count": 5,
   "id": "3ac41d18",
   "metadata": {},
   "outputs": [
    {
     "ename": "NameError",
     "evalue": "name 'all_features_scaled' is not defined",
     "output_type": "error",
     "traceback": [
      "\u001b[1;31m---------------------------------------------------------------------------\u001b[0m",
      "\u001b[1;31mNameError\u001b[0m                                 Traceback (most recent call last)",
      "Cell \u001b[1;32mIn[5], line 7\u001b[0m\n\u001b[0;32m      3\u001b[0m \u001b[38;5;28;01mfrom\u001b[39;00m\u001b[38;5;250m \u001b[39m\u001b[38;5;21;01msklearn\u001b[39;00m\u001b[38;5;21;01m.\u001b[39;00m\u001b[38;5;21;01mmetrics\u001b[39;00m\u001b[38;5;250m \u001b[39m\u001b[38;5;28;01mimport\u001b[39;00m accuracy_score, f1_score, matthews_corrcoef\n\u001b[0;32m      6\u001b[0m logo \u001b[38;5;241m=\u001b[39m LeaveOneGroupOut()\n\u001b[1;32m----> 7\u001b[0m splits \u001b[38;5;241m=\u001b[39m \u001b[38;5;28mlist\u001b[39m(logo\u001b[38;5;241m.\u001b[39msplit(\u001b[43mall_features_scaled\u001b[49m, labels, groups\u001b[38;5;241m=\u001b[39mperson_ids))\n\u001b[0;32m      9\u001b[0m all_preds \u001b[38;5;241m=\u001b[39m []\n\u001b[0;32m     10\u001b[0m all_labels \u001b[38;5;241m=\u001b[39m []\n",
      "\u001b[1;31mNameError\u001b[0m: name 'all_features_scaled' is not defined"
     ]
    }
   ],
   "source": [
    "from sklearn.ensemble import RandomForestClassifier\n",
    "from sklearn.model_selection import LeaveOneGroupOut\n",
    "from sklearn.metrics import accuracy_score, f1_score, matthews_corrcoef\n",
    "\n",
    "\n",
    "logo = LeaveOneGroupOut()\n",
    "splits = list(logo.split(all_features_scaled, labels, groups=person_ids))\n",
    "\n",
    "all_preds = []\n",
    "all_labels = []\n",
    "\n",
    "for i, (train_idx, test_idx) in enumerate(splits):\n",
    "    print(f\"Fold {i+1}/{len(splits)}\")\n",
    "\n",
    "    X_train, X_test = all_features_scaled.iloc[train_idx], all_features_scaled.iloc[test_idx]\n",
    "    y_train, y_test = labels.iloc[train_idx], labels.iloc[test_idx]\n",
    "\n",
    "    # Define and train Random Forest\n",
    "    clf = RandomForestClassifier(n_estimators=100, random_state=42)\n",
    "    clf.fit(X_train, y_train)\n",
    "\n",
    "    # Predict and evaluate\n",
    "    y_pred = clf.predict(X_test)\n",
    "\n",
    "    all_preds.extend(y_pred)\n",
    "    all_labels.extend(y_test)\n",
    "\n",
    "    print(f\"Fold {i+1} done. Accuracy = {accuracy_score(y_test, y_pred):.4f}\")\n",
    "\n",
    "# Step 4: Final Metrics\n",
    "\n",
    "accuracy = accuracy_score(all_labels, all_preds)\n",
    "f1 = f1_score(all_labels, all_preds)\n",
    "mcc = matthews_corrcoef(all_labels, all_preds)\n",
    "\n",
    "print(\"\\nFinal Random Forest Results:\")\n",
    "print(f\"Accuracy : {accuracy:.4f}\")\n",
    "print(f\"F1-Score : {f1:.4f}\")\n",
    "print(f\"MCC      : {mcc:.4f}\")"
   ]
  }
 ],
 "metadata": {
  "kernelspec": {
   "display_name": "py310",
   "language": "python",
   "name": "python3"
  },
  "language_info": {
   "codemirror_mode": {
    "name": "ipython",
    "version": 3
   },
   "file_extension": ".py",
   "mimetype": "text/x-python",
   "name": "python",
   "nbconvert_exporter": "python",
   "pygments_lexer": "ipython3",
   "version": "3.10.16"
  }
 },
 "nbformat": 4,
 "nbformat_minor": 5
}
